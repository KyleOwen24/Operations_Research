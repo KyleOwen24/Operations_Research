{
  "nbformat": 4,
  "nbformat_minor": 0,
  "metadata": {
    "colab": {
      "name": "Untitled30.ipynb",
      "provenance": [],
      "authorship_tag": "ABX9TyNpVstaDxFBNnQ+dNcQgQ3t",
      "include_colab_link": true
    },
    "kernelspec": {
      "name": "python3",
      "display_name": "Python 3"
    },
    "language_info": {
      "name": "python"
    }
  },
  "cells": [
    {
      "cell_type": "markdown",
      "metadata": {
        "id": "view-in-github",
        "colab_type": "text"
      },
      "source": [
        "<a href=\"https://colab.research.google.com/github/nurfnick/Operations_Research/blob/main/Chapter2LinearProgramming.ipynb\" target=\"_parent\"><img src=\"https://colab.research.google.com/assets/colab-badge.svg\" alt=\"Open In Colab\"/></a>"
      ]
    },
    {
      "cell_type": "markdown",
      "metadata": {
        "id": "i_4QVqdV96a6"
      },
      "source": [
        "# Linear Programming\n",
        "\n",
        "\n",
        "\n"
      ]
    },
    {
      "cell_type": "markdown",
      "metadata": {
        "id": "woaZjkArTMAh"
      },
      "source": [
        "## Introduction\n",
        "\n",
        "\n",
        "\n",
        "\n"
      ]
    },
    {
      "cell_type": "markdown",
      "metadata": {
        "id": "n0AD_VXnYiKq"
      },
      "source": [
        "A local pillow company designs pillows especially for pregnant and nursing mothers.  There are two pillows that they produce referred here as large and small.  The large pillow requires three yards of fabric, five hours of sewing and seven pounds of fill.  The small pillow only requires two yards of fabric, three hours of sewing and four pounds of fill.\n",
        "\n",
        "The manager, trying to keep all of this straight creates a table.\n",
        "\n",
        "|Pillow|Fabric|Sewing|Fill|\n",
        "|:------:|:------:|:------:|:----:|\n",
        "|Large |3     |5     |7   |\n",
        "|Small |2     |3     |4   |\n",
        "\n",
        "The manager being an astute business man, wants to limit inventory and labor.  Each week they can source 5000 yards of fabric and 10,000 pounds of fill.  With a work crew that can do at most 8000 hours of labour each week.  He adds this information to his table feeling very satisfied.\n",
        "\n",
        "|Pillow|Fabric|Sewing|Fill|\n",
        "|:------:|:------:|:------:|:----:|\n",
        "|Large |3     |5     |7   |\n",
        "|Small |2     |3     |4   |\n",
        "|Weekly Max| 5000|8000|10000|\n",
        "\n",
        "Using some hueristics, the manager cranks out some pillows of each type every week.  One day an intrept intern asks, \"Are we maximizing our profit?\"  The large pillow sells for a $\\$ $3 profit, while the small pillow sells for a $\\$ $1.50 profit.  The intern adds this to the table but still does not know if they are maximizing profit.\n",
        "\n",
        "|Pillow|Fabric|Sewing|Fill|Profit|\n",
        "|:------:|:------:|:------:|:----:|:---:|\n",
        "|Large |3     |5     |7   |3|\n",
        "|Small |2     |3     |4   |1.5|\n",
        "|Weekly Max| 5000|8000|10000|???|\n",
        "\n",
        "The intern continues down this line of thought and comes up with a way to maximize the number of pillows produced.  They let $x$ be the number of large pillows and $y$ be the number of small pillows.  They create a system of inequalities:\n",
        "\n",
        "$$\n",
        "\\left\\{\n",
        "\\begin{array}{l}\n",
        "3x+2y\\leq 5000\\\\\n",
        "5x+3y\\leq 8000\\\\\n",
        "7x+4y\\leq 10000\n",
        "\\end{array}\n",
        "\\right.\n",
        "$$\n",
        "\n",
        "In order to better understand these inequalities it becomes important to look at a graph."
      ]
    },
    {
      "cell_type": "code",
      "metadata": {
        "colab": {
          "base_uri": "https://localhost:8080/",
          "height": 269
        },
        "id": "612nWb9T_MxL",
        "outputId": "ae7e48d6-28ea-4f05-ae1f-d8be3f385ccc"
      },
      "source": [
        "import numpy as np\n",
        "import matplotlib.pyplot as plt\n",
        "\n",
        "x= np.arange(0,150,.1)\n",
        "\n",
        "y1 = (520-3*x)/2\n",
        "y2 = (800-5*x)/3\n",
        "y3 = (1000-7*x)/3\n",
        "\n",
        "plt.plot(x,y1)\n",
        "plt.plot(x,y2)\n",
        "plt.plot(x,y3)\n",
        "plt.show()\n"
      ],
      "execution_count": 27,
      "outputs": [
        {
          "output_type": "display_data",
          "data": {
            "image/png": "[encoded data removed]",
            "text/plain": [
              "<Figure size 432x288 with 1 Axes>"
            ]
          },
          "metadata": {
            "needs_background": "light"
          }
        }
      ]
    },
    {
      "cell_type": "markdown",
      "metadata": {
        "id": "DVKCnmI8UBTG"
      },
      "source": [
        "## Theory"
      ]
    },
    {
      "cell_type": "markdown",
      "metadata": {
        "id": "5GgWvxZMYjTU"
      },
      "source": [
        ""
      ]
    },
    {
      "cell_type": "markdown",
      "metadata": {
        "id": "gZAnmh5LlmwX"
      },
      "source": [
        "## Examples"
      ]
    },
    {
      "cell_type": "markdown",
      "metadata": {
        "id": "VXEn-1oj8CG_"
      },
      "source": [
        "### Example 1"
      ]
    },
    {
      "cell_type": "markdown",
      "metadata": {
        "id": "hbqQ17BOlqGN"
      },
      "source": [
        "\n",
        "\n"
      ]
    },
    {
      "cell_type": "markdown",
      "metadata": {
        "id": "xwx5JA688Gqu"
      },
      "source": [
        "### Example 2"
      ]
    },
    {
      "cell_type": "markdown",
      "metadata": {
        "id": "UCeUiE8j8Ngm"
      },
      "source": [
        ""
      ]
    },
    {
      "cell_type": "markdown",
      "metadata": {
        "id": "fb2uZl1q_LR_"
      },
      "source": [
        "## References\n",
        "\n",
        "*How to Solve It* **G. Polya** Second Edition Princeton University Press 1957\n",
        "\n",
        "*Thinking Mathematically* **J. Mason** Addison-Wesley Publishing Company 1985\n",
        "\n",
        "*Grit: The Power of Passion and Perseverance* **A. Duckworth** ‎ Scribner Book Company 2016\n",
        "\n"
      ]
    },
    {
      "cell_type": "markdown",
      "metadata": {
        "id": "DGC5WaH4Y98C"
      },
      "source": [
        "## Problems"
      ]
    },
    {
      "cell_type": "markdown",
      "metadata": {
        "id": "aFM8E4VSZA_p"
      },
      "source": [
        ""
      ]
    },
    {
      "cell_type": "code",
      "metadata": {
        "id": "mbMCC1ZMZAHk"
      },
      "source": [
        ""
      ],
      "execution_count": null,
      "outputs": []
    },
    {
      "cell_type": "markdown",
      "metadata": {
        "id": "pz5xCYtbZCGZ"
      },
      "source": [
        "## Project Idea"
      ]
    },
    {
      "cell_type": "markdown",
      "metadata": {
        "id": "LrBCw5_-ZJFK"
      },
      "source": [
        ""
      ]
    }
  ]
}
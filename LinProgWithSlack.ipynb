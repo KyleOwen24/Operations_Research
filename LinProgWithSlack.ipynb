{
  "nbformat": 4,
  "nbformat_minor": 0,
  "metadata": {
    "colab": {
      "name": "Untitled43.ipynb",
      "provenance": [],
      "authorship_tag": "ABX9TyNel6nfAOlVGRF7gfUtqXGS",
      "include_colab_link": true
    },
    "kernelspec": {
      "name": "python3",
      "display_name": "Python 3"
    },
    "language_info": {
      "name": "python"
    }
  },
  "cells": [
    {
      "cell_type": "markdown",
      "metadata": {
        "id": "view-in-github",
        "colab_type": "text"
      },
      "source": [
        "<a href=\"https://colab.research.google.com/github/nurfnick/Operations_Research/blob/main/LinProgWithSlack.ipynb\" target=\"_parent\"><img src=\"https://colab.research.google.com/assets/colab-badge.svg\" alt=\"Open In Colab\"/></a>"
      ]
    },
    {
      "cell_type": "code",
      "metadata": {
        "id": "DT9mcmqvFGCw"
      },
      "source": [
        "import numpy as np\n",
        "\n",
        "A = np.array([[7,3,6,1,0],[4,4,5,0,1]])\n",
        "b= np.array([300,200])"
      ],
      "execution_count": 26,
      "outputs": []
    },
    {
      "cell_type": "code",
      "metadata": {
        "colab": {
          "base_uri": "https://localhost:8080/"
        },
        "id": "kjuDAF6RFSdX",
        "outputId": "bb5567a6-f818-4a68-b806-473a4eb00d4e"
      },
      "source": [
        "import itertools\n",
        "\n",
        "for i in itertools.combinations(range(5), r=2):\n",
        "  print(i)\n",
        "#np.linalg.solve(A,b)"
      ],
      "execution_count": 20,
      "outputs": [
        {
          "output_type": "stream",
          "name": "stdout",
          "text": [
            "(0, 1)\n",
            "(0, 2)\n",
            "(0, 3)\n",
            "(0, 4)\n",
            "(1, 2)\n",
            "(1, 3)\n",
            "(1, 4)\n",
            "(2, 3)\n",
            "(2, 4)\n",
            "(3, 4)\n"
          ]
        }
      ]
    },
    {
      "cell_type": "code",
      "metadata": {
        "colab": {
          "base_uri": "https://localhost:8080/"
        },
        "id": "0ulYWGJzLYqS",
        "outputId": "d83c0e7e-4eb0-42f2-c4d2-380d391cccc6"
      },
      "source": [
        "index = [[i,j] for i in range(5) for j in range(i+1,5)]\n",
        "\n",
        "index"
      ],
      "execution_count": 25,
      "outputs": [
        {
          "output_type": "execute_result",
          "data": {
            "text/plain": [
              "[[0, 1],\n",
              " [0, 2],\n",
              " [0, 3],\n",
              " [0, 4],\n",
              " [1, 2],\n",
              " [1, 3],\n",
              " [1, 4],\n",
              " [2, 3],\n",
              " [2, 4],\n",
              " [3, 4]]"
            ]
          },
          "metadata": {},
          "execution_count": 25
        }
      ]
    },
    {
      "cell_type": "code",
      "metadata": {
        "colab": {
          "base_uri": "https://localhost:8080/"
        },
        "id": "fT6UPc69K1Ck",
        "outputId": "744c1fe4-1d26-4472-f514-e12394247cc9"
      },
      "source": [
        "for i in index:\n",
        "  print(np.linalg.solve(A[:,i],b))"
      ],
      "execution_count": 28,
      "outputs": [
        {
          "output_type": "stream",
          "name": "stdout",
          "text": [
            "[37.5 12.5]\n",
            "[27.27272727 18.18181818]\n",
            "[ 50. -50.]\n",
            "[42.85714286 28.57142857]\n",
            "[-33.33333333  66.66666667]\n",
            "[ 50. 150.]\n",
            "[ 100. -200.]\n",
            "[40. 60.]\n",
            "[ 50. -50.]\n",
            "[300. 200.]\n"
          ]
        }
      ]
    },
    {
      "cell_type": "code",
      "metadata": {
        "id": "_Wd-D7IEMP-i"
      },
      "source": [
        "d = {0:'small',1:'med',2:'large',3:'slacklabor',4:'slackmaterial'}"
      ],
      "execution_count": 30,
      "outputs": []
    },
    {
      "cell_type": "code",
      "metadata": {
        "colab": {
          "base_uri": "https://localhost:8080/",
          "height": 36
        },
        "id": "zDkaTjp2MlF5",
        "outputId": "f5c059c8-20d7-466e-f8e1-745f883f0278"
      },
      "source": [
        "d[4]"
      ],
      "execution_count": 31,
      "outputs": [
        {
          "output_type": "execute_result",
          "data": {
            "application/vnd.google.colaboratory.intrinsic+json": {
              "type": "string"
            },
            "text/plain": [
              "'slackmaterial'"
            ]
          },
          "metadata": {},
          "execution_count": 31
        }
      ]
    },
    {
      "cell_type": "code",
      "metadata": {
        "colab": {
          "base_uri": "https://localhost:8080/"
        },
        "id": "bfp-rldQNdl1",
        "outputId": "960e433c-ae8b-4d7c-a8c3-ae8f3acb8f98"
      },
      "source": [
        "\n",
        "\n",
        "for i in index:\n",
        "  print((d[i[0]],d[i[1]]),np.linalg.solve(A[:,i],b))"
      ],
      "execution_count": 34,
      "outputs": [
        {
          "output_type": "stream",
          "name": "stdout",
          "text": [
            "('small', 'med') [37.5 12.5]\n",
            "('small', 'large') [27.27272727 18.18181818]\n",
            "('small', 'slacklabor') [ 50. -50.]\n",
            "('small', 'slackmaterial') [42.85714286 28.57142857]\n",
            "('med', 'large') [-33.33333333  66.66666667]\n",
            "('med', 'slacklabor') [ 50. 150.]\n",
            "('med', 'slackmaterial') [ 100. -200.]\n",
            "('large', 'slacklabor') [40. 60.]\n",
            "('large', 'slackmaterial') [ 50. -50.]\n",
            "('slacklabor', 'slackmaterial') [300. 200.]\n"
          ]
        }
      ]
    },
    {
      "cell_type": "code",
      "metadata": {
        "id": "Lj9p-4tROGTY"
      },
      "source": [
        "def profit(list):\n",
        "  return 4*list[0]+2*list[1]+3*list[2]\n"
      ],
      "execution_count": 39,
      "outputs": []
    },
    {
      "cell_type": "code",
      "metadata": {
        "colab": {
          "base_uri": "https://localhost:8080/"
        },
        "id": "Vie3zQKEOUjG",
        "outputId": "beb1f76d-2fa6-45dc-81f4-b38f49caeff7"
      },
      "source": [
        "newlist = []\n",
        "indexref = [2,3]\n",
        "solution = np.linalg.solve(A[:,indexref],b)\n",
        "def buildFullList(indexref,solution):\n",
        "  newlist =[]\n",
        "  solutioncounter = 0\n",
        "  for j in range(5):\n",
        "    if j not in indexref:\n",
        "      newlist.append(0)\n",
        "    else:\n",
        "      newlist.append(round(solution[solutioncounter],5))\n",
        "      solutioncounter += 1\n",
        "  return newlist\n",
        "\n",
        "buildFullList(indexref,solution)"
      ],
      "execution_count": 83,
      "outputs": [
        {
          "output_type": "execute_result",
          "data": {
            "text/plain": [
              "[0, 0, 40.0, 60.0, 0]"
            ]
          },
          "metadata": {},
          "execution_count": 83
        }
      ]
    },
    {
      "cell_type": "code",
      "metadata": {
        "colab": {
          "base_uri": "https://localhost:8080/"
        },
        "id": "ViRJe0zMQKBJ",
        "outputId": "ce0009ab-422e-4d01-8c60-73bc5a4e26af"
      },
      "source": [
        "for i in index:\n",
        "  solution = np.linalg.solve(A[:,i],b)\n",
        "  print((d[i[0]],d[i[1]]),solution,buildFullList(i,solution),profit(buildFullList(i,solution)))"
      ],
      "execution_count": 45,
      "outputs": [
        {
          "output_type": "stream",
          "name": "stdout",
          "text": [
            "('small', 'med') [37.5 12.5] [37.5, 12.500000000000005, 0, 0, 0] 175.0\n",
            "('small', 'large') [27.27272727 18.18181818] [27.272727272727273, 0, 18.181818181818183, 0, 0] 163.63636363636363\n",
            "('small', 'slacklabor') [ 50. -50.] [50.0, 0, 0, -50.00000000000002, 0] 200.0\n",
            "('small', 'slackmaterial') [42.85714286 28.57142857] [42.857142857142854, 0, 0, 0, 28.57142857142858] 171.42857142857142\n",
            "('med', 'large') [-33.33333333  66.66666667] [0, -33.33333333333334, 66.66666666666667, 0, 0] 133.33333333333331\n",
            "('med', 'slacklabor') [ 50. 150.] [0, 50.0, 0, 150.0, 0] 100.0\n",
            "('med', 'slackmaterial') [ 100. -200.] [0, 100.0, 0, 0, -200.0] 200.0\n",
            "('large', 'slacklabor') [40. 60.] [0, 0, 40.00000000000001, 59.99999999999998, 0] 120.00000000000003\n",
            "('large', 'slackmaterial') [ 50. -50.] [0, 0, 50.0, 0, -49.99999999999998] 150.0\n",
            "('slacklabor', 'slackmaterial') [300. 200.] [0, 0, 0, 300.0, 200.0] 0\n"
          ]
        }
      ]
    },
    {
      "cell_type": "code",
      "metadata": {
        "id": "-XW8Vjk8REUl"
      },
      "source": [
        "def testForFeasible(list1):\n",
        "  return (A[0]@list1<=b[0]) & (A[1]@list1<=b[1]) & all([i>=0 for i in list1])\n"
      ],
      "execution_count": 60,
      "outputs": []
    },
    {
      "cell_type": "code",
      "metadata": {
        "colab": {
          "base_uri": "https://localhost:8080/"
        },
        "id": "Bex58lvbRhbi",
        "outputId": "b71caed6-7bae-4773-d195-852817a56b35"
      },
      "source": [
        "all([i>=0 for i in buildFullList(indexref,solution)])"
      ],
      "execution_count": 55,
      "outputs": [
        {
          "output_type": "execute_result",
          "data": {
            "text/plain": [
              "True"
            ]
          },
          "metadata": {},
          "execution_count": 55
        }
      ]
    },
    {
      "cell_type": "code",
      "metadata": {
        "colab": {
          "base_uri": "https://localhost:8080/"
        },
        "id": "HAa2TdnCRQA6",
        "outputId": "6ed2f41d-463b-425a-b7c9-b299d0e3a081"
      },
      "source": [
        "buildFullList(indexref,solution)"
      ],
      "execution_count": 49,
      "outputs": [
        {
          "output_type": "execute_result",
          "data": {
            "text/plain": [
              "[0, 0, 300.0, 200.0, 0]"
            ]
          },
          "metadata": {},
          "execution_count": 49
        }
      ]
    },
    {
      "cell_type": "code",
      "metadata": {
        "colab": {
          "base_uri": "https://localhost:8080/"
        },
        "id": "mhWq5HkrSK85",
        "outputId": "af7b6e52-a358-4d19-d86c-c04b0891e5fd"
      },
      "source": [
        "for i in index:\n",
        "  solution = np.linalg.solve(A[:,i],b)\n",
        "  list1 = buildFullList(i,solution)\n",
        "  print((d[i[0]],d[i[1]]),solution,list1,profit(list1),testForFeasible(list1))"
      ],
      "execution_count": 61,
      "outputs": [
        {
          "output_type": "stream",
          "name": "stdout",
          "text": [
            "('small', 'med') [37.5 12.5] [37.5, 12.500000000000005, 0, 0, 0] 175.0 False\n",
            "('small', 'large') [27.27272727 18.18181818] [27.272727272727273, 0, 18.181818181818183, 0, 0] 163.63636363636363 True\n",
            "('small', 'slacklabor') [ 50. -50.] [50.0, 0, 0, -50.00000000000002, 0] 200.0 False\n",
            "('small', 'slackmaterial') [42.85714286 28.57142857] [42.857142857142854, 0, 0, 0, 28.57142857142858] 171.42857142857142 True\n",
            "('med', 'large') [-33.33333333  66.66666667] [0, -33.33333333333334, 66.66666666666667, 0, 0] 133.33333333333331 False\n",
            "('med', 'slacklabor') [ 50. 150.] [0, 50.0, 0, 150.0, 0] 100.0 True\n",
            "('med', 'slackmaterial') [ 100. -200.] [0, 100.0, 0, 0, -200.0] 200.0 False\n",
            "('large', 'slacklabor') [40. 60.] [0, 0, 40.00000000000001, 59.99999999999998, 0] 120.00000000000003 False\n",
            "('large', 'slackmaterial') [ 50. -50.] [0, 0, 50.0, 0, -49.99999999999998] 150.0 False\n",
            "('slacklabor', 'slackmaterial') [300. 200.] [0, 0, 0, 300.0, 200.0] 0 True\n"
          ]
        }
      ]
    },
    {
      "cell_type": "code",
      "metadata": {
        "id": "AoDcDKJpS0Kg"
      },
      "source": [
        "X = []\n",
        "for i in index:\n",
        "  solution = np.linalg.solve(A[:,i],b)\n",
        "  list1 = buildFullList(i,solution)\n",
        "  X.append([(d[i[0]],d[i[1]]),solution,list1,profit(list1),testForFeasible(list1)])"
      ],
      "execution_count": 84,
      "outputs": []
    },
    {
      "cell_type": "code",
      "metadata": {
        "colab": {
          "base_uri": "https://localhost:8080/",
          "height": 363
        },
        "id": "TQiZfYcFTiqN",
        "outputId": "826879e4-167a-4b12-9cee-2f198676cc47"
      },
      "source": [
        "import pandas as pd\n",
        "\n",
        "pd.DataFrame(X,columns = ['Variables Used','Solution','Expanded with Zeros','Profit','In Feasible'])"
      ],
      "execution_count": 85,
      "outputs": [
        {
          "output_type": "execute_result",
          "data": {
            "text/html": [
              "<div>\n",
              "<style scoped>\n",
              "    .dataframe tbody tr th:only-of-type {\n",
              "        vertical-align: middle;\n",
              "    }\n",
              "\n",
              "    .dataframe tbody tr th {\n",
              "        vertical-align: top;\n",
              "    }\n",
              "\n",
              "    .dataframe thead th {\n",
              "        text-align: right;\n",
              "    }\n",
              "</style>\n",
              "<table border=\"1\" class=\"dataframe\">\n",
              "  <thead>\n",
              "    <tr style=\"text-align: right;\">\n",
              "      <th></th>\n",
              "      <th>Variables Used</th>\n",
              "      <th>Solution</th>\n",
              "      <th>Expanded with Zeros</th>\n",
              "      <th>Profit</th>\n",
              "      <th>In Feasible</th>\n",
              "    </tr>\n",
              "  </thead>\n",
              "  <tbody>\n",
              "    <tr>\n",
              "      <th>0</th>\n",
              "      <td>(small, med)</td>\n",
              "      <td>[37.5, 12.500000000000005]</td>\n",
              "      <td>[37.5, 12.5, 0, 0, 0]</td>\n",
              "      <td>175.00000</td>\n",
              "      <td>True</td>\n",
              "    </tr>\n",
              "    <tr>\n",
              "      <th>1</th>\n",
              "      <td>(small, large)</td>\n",
              "      <td>[27.272727272727273, 18.181818181818183]</td>\n",
              "      <td>[27.27273, 0, 18.18182, 0, 0]</td>\n",
              "      <td>163.63638</td>\n",
              "      <td>False</td>\n",
              "    </tr>\n",
              "    <tr>\n",
              "      <th>2</th>\n",
              "      <td>(small, slacklabor)</td>\n",
              "      <td>[50.0, -50.00000000000002]</td>\n",
              "      <td>[50.0, 0, 0, -50.0, 0]</td>\n",
              "      <td>200.00000</td>\n",
              "      <td>False</td>\n",
              "    </tr>\n",
              "    <tr>\n",
              "      <th>3</th>\n",
              "      <td>(small, slackmaterial)</td>\n",
              "      <td>[42.857142857142854, 28.57142857142858]</td>\n",
              "      <td>[42.85714, 0, 0, 0, 28.57143]</td>\n",
              "      <td>171.42856</td>\n",
              "      <td>True</td>\n",
              "    </tr>\n",
              "    <tr>\n",
              "      <th>4</th>\n",
              "      <td>(med, large)</td>\n",
              "      <td>[-33.33333333333334, 66.66666666666667]</td>\n",
              "      <td>[0, -33.33333, 66.66667, 0, 0]</td>\n",
              "      <td>133.33335</td>\n",
              "      <td>False</td>\n",
              "    </tr>\n",
              "    <tr>\n",
              "      <th>5</th>\n",
              "      <td>(med, slacklabor)</td>\n",
              "      <td>[50.0, 150.0]</td>\n",
              "      <td>[0, 50.0, 0, 150.0, 0]</td>\n",
              "      <td>100.00000</td>\n",
              "      <td>True</td>\n",
              "    </tr>\n",
              "    <tr>\n",
              "      <th>6</th>\n",
              "      <td>(med, slackmaterial)</td>\n",
              "      <td>[100.0, -200.0]</td>\n",
              "      <td>[0, 100.0, 0, 0, -200.0]</td>\n",
              "      <td>200.00000</td>\n",
              "      <td>False</td>\n",
              "    </tr>\n",
              "    <tr>\n",
              "      <th>7</th>\n",
              "      <td>(large, slacklabor)</td>\n",
              "      <td>[40.00000000000001, 59.99999999999998]</td>\n",
              "      <td>[0, 0, 40.0, 60.0, 0]</td>\n",
              "      <td>120.00000</td>\n",
              "      <td>True</td>\n",
              "    </tr>\n",
              "    <tr>\n",
              "      <th>8</th>\n",
              "      <td>(large, slackmaterial)</td>\n",
              "      <td>[50.0, -49.99999999999998]</td>\n",
              "      <td>[0, 0, 50.0, 0, -50.0]</td>\n",
              "      <td>150.00000</td>\n",
              "      <td>False</td>\n",
              "    </tr>\n",
              "    <tr>\n",
              "      <th>9</th>\n",
              "      <td>(slacklabor, slackmaterial)</td>\n",
              "      <td>[300.0, 200.0]</td>\n",
              "      <td>[0, 0, 0, 300.0, 200.0]</td>\n",
              "      <td>0.00000</td>\n",
              "      <td>True</td>\n",
              "    </tr>\n",
              "  </tbody>\n",
              "</table>\n",
              "</div>"
            ],
            "text/plain": [
              "                Variables Used  ... In Feasible\n",
              "0                 (small, med)  ...        True\n",
              "1               (small, large)  ...       False\n",
              "2          (small, slacklabor)  ...       False\n",
              "3       (small, slackmaterial)  ...        True\n",
              "4                 (med, large)  ...       False\n",
              "5            (med, slacklabor)  ...        True\n",
              "6         (med, slackmaterial)  ...       False\n",
              "7          (large, slacklabor)  ...        True\n",
              "8       (large, slackmaterial)  ...       False\n",
              "9  (slacklabor, slackmaterial)  ...        True\n",
              "\n",
              "[10 rows x 5 columns]"
            ]
          },
          "metadata": {},
          "execution_count": 85
        }
      ]
    },
    {
      "cell_type": "code",
      "metadata": {
        "colab": {
          "base_uri": "https://localhost:8080/"
        },
        "id": "5w5sgaLeFcwL",
        "outputId": "0212675e-9ce7-44ab-a910-17342cd30d6f"
      },
      "source": [
        "from scipy.optimize import linprog\n",
        "\n",
        "linprog([-4,-2,-3],A,b)"
      ],
      "execution_count": 5,
      "outputs": [
        {
          "output_type": "stream",
          "name": "stderr",
          "text": [
            "/usr/local/lib/python3.7/dist-packages/numpy/core/fromnumeric.py:87: VisibleDeprecationWarning: Creating an ndarray from ragged nested sequences (which is a list-or-tuple of lists-or-tuples-or ndarrays with different lengths or shapes) is deprecated. If you meant to do this, you must specify 'dtype=object' when creating the ndarray\n",
            "  return ufunc.reduce(obj, axis, dtype, out, **passkwargs)\n"
          ]
        },
        {
          "output_type": "execute_result",
          "data": {
            "text/plain": [
              "     con: array([], dtype=float64)\n",
              "     fun: -174.99999996917586\n",
              " message: 'Optimization terminated successfully.'\n",
              "     nit: 5\n",
              "   slack: array([5.02170678e-08, 4.08952303e-08])\n",
              "  status: 0\n",
              " success: True\n",
              "       x: array([3.75000000e+01, 1.25000000e+01, 9.65956894e-10])"
            ]
          },
          "metadata": {},
          "execution_count": 5
        }
      ]
    },
    {
      "cell_type": "code",
      "metadata": {
        "id": "JoEi-sMuGpWO"
      },
      "source": [
        ""
      ],
      "execution_count": null,
      "outputs": []
    }
  ]
}
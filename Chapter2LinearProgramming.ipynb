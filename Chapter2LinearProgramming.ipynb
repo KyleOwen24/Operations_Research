{
  "nbformat": 4,
  "nbformat_minor": 0,
  "metadata": {
    "colab": {
      "name": "Untitled30.ipynb",
      "provenance": [],
      "authorship_tag": "ABX9TyOzKPR02nSEsqLjDBUTZ70A",
      "include_colab_link": true
    },
    "kernelspec": {
      "name": "python3",
      "display_name": "Python 3"
    },
    "language_info": {
      "name": "python"
    }
  },
  "cells": [
    {
      "cell_type": "markdown",
      "metadata": {
        "id": "view-in-github",
        "colab_type": "text"
      },
      "source": [
        "<a href=\"https://colab.research.google.com/github/nurfnick/Operations_Research/blob/main/Chapter2LinearProgramming.ipynb\" target=\"_parent\"><img src=\"https://colab.research.google.com/assets/colab-badge.svg\" alt=\"Open In Colab\"/></a>"
      ]
    },
    {
      "cell_type": "markdown",
      "metadata": {
        "id": "i_4QVqdV96a6"
      },
      "source": [
        "# Linear Programming\n",
        "\n",
        "\n",
        "\n"
      ]
    },
    {
      "cell_type": "markdown",
      "metadata": {
        "id": "woaZjkArTMAh"
      },
      "source": [
        "## Introduction\n",
        "\n",
        "\n",
        "\n",
        "\n"
      ]
    },
    {
      "cell_type": "markdown",
      "metadata": {
        "id": "n0AD_VXnYiKq"
      },
      "source": [
        "A local pillow company designs pillows especially for pregnant and nursing mothers.  There are two pillows that they produce referred here as large and small.  The large pillow requires one yard of fabric, five hours of sewing and seven pounds of fill.  The small pillow only requires one yard of fabric, three hours of sewing and three pounds of fill.\n",
        "\n",
        "The manager, trying to keep all of this straight creates a table.\n",
        "\n",
        "|Pillow|Fabric|Sewing|Fill|\n",
        "|:------:|:------:|:------:|:----:|\n",
        "|Large |1     |5     |7   |\n",
        "|Small |1     |3     |3   |\n",
        "\n",
        "The manager being an astute business man, wants to limit inventory and labor.  Each week they can source 210 yards of fabric and 1000 pounds of fill.  With a work crew that can do at most 800 hours of labour each week.  He adds this information to his table feeling very satisfied.\n",
        "\n",
        "|Pillow|Fabric|Sewing|Fill|\n",
        "|:------:|:------:|:------:|:----:|\n",
        "|Large |1     |5     |7   |\n",
        "|Small |1     |3     |3   |\n",
        "|Weekly Max| 250|800|1000|\n",
        "\n",
        "Using some hueristics, the manager cranks out some pillows of each type every week.  One day an intrept intern asks, \"Are we maximizing our profit?\"  The large pillow sells for a $\\$ $3 profit, while the small pillow sells for a $\\$ $1.50 profit.  The intern adds this to the table but still does not know if they are maximizing profit.\n",
        "\n",
        "|Pillow|Fabric|Sewing|Fill|Profit|\n",
        "|:------:|:------:|:------:|:----:|:---:|\n",
        "|Large |1     |5     |7   |3|\n",
        "|Small |1     |3     |3   |1.5|\n",
        "|Weekly Max| 250|800|1000|???|\n",
        "\n",
        "The intern continues down this line of thought and comes up with a way to maximize the number of pillows produced.  They let $x$ be the number of large pillows and $y$ be the number of small pillows.  They create a system of inequalities:\n",
        "\n",
        "$$\n",
        "\\left\\{\n",
        "\\begin{array}{l}\n",
        "x+y\\leq 250\\\\\n",
        "5x+3y\\leq 800\\\\\n",
        "7x+3y\\leq 1000\n",
        "\\end{array}\n",
        "\\right.\n",
        "$$\n",
        "\n",
        "To graph this properly, we'll find the corner points."
      ]
    },
    {
      "cell_type": "code",
      "metadata": {
        "id": "X39A7NEyRKdt",
        "outputId": "9e0f1372-ccd9-4236-dd7b-e28d8c88507b",
        "colab": {
          "base_uri": "https://localhost:8080/"
        }
      },
      "source": [
        "import numpy as np\n",
        "\n",
        "A = np.array([[1,1],[5,3],[7,3]])\n",
        "b = np.array([250,800,980])\n",
        "\n",
        "np.linalg.solve(A[0:2,:],b[0:2])"
      ],
      "execution_count": 33,
      "outputs": [
        {
          "output_type": "execute_result",
          "data": {
            "text/plain": [
              "array([ 25., 225.])"
            ]
          },
          "metadata": {},
          "execution_count": 33
        }
      ]
    },
    {
      "cell_type": "code",
      "metadata": {
        "id": "p3YIV4RTU-_R",
        "outputId": "1bc6c2f8-18d6-41cf-ed2b-3cbf5ad893c0",
        "colab": {
          "base_uri": "https://localhost:8080/"
        }
      },
      "source": [
        "np.linalg.solve(A[1:3,:],b[1:3])"
      ],
      "execution_count": 34,
      "outputs": [
        {
          "output_type": "execute_result",
          "data": {
            "text/plain": [
              "array([ 90.        , 116.66666667])"
            ]
          },
          "metadata": {},
          "execution_count": 34
        }
      ]
    },
    {
      "cell_type": "code",
      "metadata": {
        "id": "VBS_jjUCVDKJ",
        "outputId": "c0c17865-fdc7-43ee-9f43-9a5c9f27efa4",
        "colab": {
          "base_uri": "https://localhost:8080/"
        }
      },
      "source": [
        "np.linalg.solve(A[[0,2],:],b[[0,2]])"
      ],
      "execution_count": 35,
      "outputs": [
        {
          "output_type": "execute_result",
          "data": {
            "text/plain": [
              "array([ 57.5, 192.5])"
            ]
          },
          "metadata": {},
          "execution_count": 35
        }
      ]
    },
    {
      "cell_type": "code",
      "metadata": {
        "colab": {
          "base_uri": "https://localhost:8080/",
          "height": 265
        },
        "id": "612nWb9T_MxL",
        "outputId": "e318badb-3be9-478a-886f-88b98f7de95c"
      },
      "source": [
        "\n",
        "import matplotlib.pyplot as plt\n",
        "\n",
        "x1= np.arange(0,25,.1)\n",
        "x2 = np.arange(25,100,.1)\n",
        "\n",
        "\n",
        "y1 = (250-1*x)/1\n",
        "y2 = (800-5*x)/3\n",
        "y3 = (980-7*x)/3\n",
        "\n",
        "plt.plot(x,y1)\n",
        "plt.plot(x,y2)\n",
        "plt.plot(x,y3)\n",
        "plt.fill_between(x,0,y1)\n",
        "plt.fill_between(x,0,y2)\n",
        "plt.show()\n"
      ],
      "execution_count": 32,
      "outputs": [
        {
          "output_type": "display_data",
          "data": {
            "image/png": "[encoded data removed]",
            "text/plain": [
              "<Figure size 432x288 with 1 Axes>"
            ]
          },
          "metadata": {
            "needs_background": "light"
          }
        }
      ]
    },
    {
      "cell_type": "markdown",
      "metadata": {
        "id": "DVKCnmI8UBTG"
      },
      "source": [
        "## Theory"
      ]
    },
    {
      "cell_type": "markdown",
      "metadata": {
        "id": "5GgWvxZMYjTU"
      },
      "source": [
        ""
      ]
    },
    {
      "cell_type": "markdown",
      "metadata": {
        "id": "gZAnmh5LlmwX"
      },
      "source": [
        "## Examples"
      ]
    },
    {
      "cell_type": "markdown",
      "metadata": {
        "id": "VXEn-1oj8CG_"
      },
      "source": [
        "### Example 1"
      ]
    },
    {
      "cell_type": "markdown",
      "metadata": {
        "id": "hbqQ17BOlqGN"
      },
      "source": [
        "\n",
        "\n"
      ]
    },
    {
      "cell_type": "markdown",
      "metadata": {
        "id": "xwx5JA688Gqu"
      },
      "source": [
        "### Example 2"
      ]
    },
    {
      "cell_type": "markdown",
      "metadata": {
        "id": "UCeUiE8j8Ngm"
      },
      "source": [
        ""
      ]
    },
    {
      "cell_type": "markdown",
      "metadata": {
        "id": "fb2uZl1q_LR_"
      },
      "source": [
        "## References\n",
        "\n",
        "*How to Solve It* **G. Polya** Second Edition Princeton University Press 1957\n",
        "\n",
        "*Thinking Mathematically* **J. Mason** Addison-Wesley Publishing Company 1985\n",
        "\n",
        "*Grit: The Power of Passion and Perseverance* **A. Duckworth** ‎ Scribner Book Company 2016\n",
        "\n"
      ]
    },
    {
      "cell_type": "markdown",
      "metadata": {
        "id": "DGC5WaH4Y98C"
      },
      "source": [
        "## Problems"
      ]
    },
    {
      "cell_type": "markdown",
      "metadata": {
        "id": "aFM8E4VSZA_p"
      },
      "source": [
        ""
      ]
    },
    {
      "cell_type": "code",
      "metadata": {
        "id": "mbMCC1ZMZAHk"
      },
      "source": [
        ""
      ],
      "execution_count": null,
      "outputs": []
    },
    {
      "cell_type": "markdown",
      "metadata": {
        "id": "pz5xCYtbZCGZ"
      },
      "source": [
        "## Project Idea"
      ]
    },
    {
      "cell_type": "markdown",
      "metadata": {
        "id": "LrBCw5_-ZJFK"
      },
      "source": [
        ""
      ]
    }
  ]
}
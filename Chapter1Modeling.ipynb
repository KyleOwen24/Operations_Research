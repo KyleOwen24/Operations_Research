{
  "nbformat": 4,
  "nbformat_minor": 0,
  "metadata": {
    "colab": {
      "name": "Untitled30.ipynb",
      "provenance": [],
      "authorship_tag": "ABX9TyPFPAC7xjXduzP7D69xwAxd",
      "include_colab_link": true
    },
    "kernelspec": {
      "name": "python3",
      "display_name": "Python 3"
    },
    "language_info": {
      "name": "python"
    }
  },
  "cells": [
    {
      "cell_type": "markdown",
      "metadata": {
        "id": "view-in-github",
        "colab_type": "text"
      },
      "source": [
        "<a href=\"https://colab.research.google.com/github/nurfnick/Operations_Research/blob/main/Chapter1Modeling.ipynb\" target=\"_parent\"><img src=\"https://colab.research.google.com/assets/colab-badge.svg\" alt=\"Open In Colab\"/></a>"
      ]
    },
    {
      "cell_type": "markdown",
      "metadata": {
        "id": "i_4QVqdV96a6"
      },
      "source": [
        "# Modeling \n",
        "\n",
        "## Introduction\n",
        "Modeling is an important task in mathematics, computer science and science in general.  It is the process of breaking down a complex problem or situation and converting it into something that can be manipulated with equations.  In terms most fifth graders would know, it is solving word problems!\n",
        "\n",
        "Following Dr. Polya, we consider 4 steps to solving any mathematical problem\n",
        "\n",
        "1. ***Understand*** the problem and clearly see what is required\n",
        "2. ***Plan*** how the unknown is linked to the data\n",
        "3. ***Carry Out*** our plan\n",
        "4. ***Look Back*** at our solution and ask did it solve our original problem\n",
        "\n",
        "We will attempt to apply these techniques of modeling to everything done throughout this course.\n",
        "\n",
        "```{note}\n",
        "x = 3\n",
        "```"
      ]
    },
    {
      "cell_type": "code",
      "metadata": {
        "id": "Vyy7ej5l93pi"
      },
      "source": [
        "x = 3"
      ],
      "execution_count": 1,
      "outputs": []
    },
    {
      "cell_type": "markdown",
      "metadata": {
        "id": "fb2uZl1q_LR_"
      },
      "source": [
        "## References\n",
        "\n",
        "*How to Solve It* G. Polya Second Edition Princeton University Press 1957"
      ]
    }
  ]
}
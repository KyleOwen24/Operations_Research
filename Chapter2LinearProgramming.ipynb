{
  "nbformat": 4,
  "nbformat_minor": 0,
  "metadata": {
    "colab": {
      "name": "Untitled30.ipynb",
      "provenance": [],
      "authorship_tag": "ABX9TyPar14lnMYKjEwkt6zlzeuv",
      "include_colab_link": true
    },
    "kernelspec": {
      "name": "python3",
      "display_name": "Python 3"
    },
    "language_info": {
      "name": "python"
    }
  },
  "cells": [
    {
      "cell_type": "markdown",
      "metadata": {
        "id": "view-in-github",
        "colab_type": "text"
      },
      "source": [
        "<a href=\"https://colab.research.google.com/github/nurfnick/Operations_Research/blob/main/Chapter2LinearProgramming.ipynb\" target=\"_parent\"><img src=\"https://colab.research.google.com/assets/colab-badge.svg\" alt=\"Open In Colab\"/></a>"
      ]
    },
    {
      "cell_type": "markdown",
      "metadata": {
        "id": "i_4QVqdV96a6"
      },
      "source": [
        "# Linear Programming\n",
        "\n",
        "\n",
        "\n"
      ]
    },
    {
      "cell_type": "markdown",
      "metadata": {
        "id": "woaZjkArTMAh"
      },
      "source": [
        "## Introduction\n",
        "\n",
        "\n",
        "\n",
        "\n"
      ]
    },
    {
      "cell_type": "markdown",
      "metadata": {
        "id": "n0AD_VXnYiKq"
      },
      "source": [
        "A local pillow company designs pillows especially for pregnant and nursing mothers.  There are two pillows that they produce referred here as large and small.  The large pillow requires six yards of fabric, one hour of sewing and eleven pounds of fill.  The small pillow requires seven yards of fabric, three hours of sewing and four pounds of fill.\n",
        "\n",
        "The manager, trying to keep all of this straight creates a table.\n",
        "\n",
        "|Pillow|Fabric|Sewing|Fill|\n",
        "|:------:|:------:|:------:|:----:|\n",
        "|Large |6     |1     |11   |\n",
        "|Small |7     |3     |4   |\n",
        "\n",
        "The manager being an astute business man, wants to limit inventory and labor.  Each week they can source 1370 yards of fabric and 1540 pounds of fill.  With a work crew that can do at most 540 hours of labour each week.  He adds this information to his table feeling very satisfied.\n",
        "\n",
        "|Pillow|Fabric|Sewing|Fill|\n",
        "|:------:|:------:|:------:|:----:|\n",
        "|Large |6     |1     |11   |\n",
        "|Small |7     |3     |4   |\n",
        "|Weekly Max| 1370|540|1540|\n",
        "\n",
        "Using some hueristics, the manager cranks out some pillows of each type every week.  One day an intrept intern asks, \"Are we maximizing our profit?\"  The large pillow sells for a $\\$ $3 profit, while the small pillow sells for a $\\$ $2 profit.  The intern adds this to the table but still does not know if they are maximizing profit.\n",
        "\n",
        "|Pillow|Fabric|Sewing|Fill|Profit|\n",
        "|:------:|:------:|:------:|:----:|:---:|\n",
        "|Large |6     |1     |11   |3\n",
        "|Small |7     |3     |4   |2\n",
        "|Weekly Max| 1370|540|1540|???\n",
        "\n",
        "The intern continues down this line of thought and comes up with a way to maximize the number of pillows produced.  They let $x$ be the number of large pillows and $y$ be the number of small pillows.  They create a system of inequalities:\n",
        "\n",
        "$$\n",
        "\\left\\{\n",
        "\\begin{array}{l}\n",
        "6x+7y\\leq 1370\\\\\n",
        "x+3y\\leq 540\\\\\n",
        "11x+4y\\leq 1540\n",
        "\\end{array}\n",
        "\\right.\n",
        "$$\n",
        "\n",
        "To graph this properly, we'll find the corner points."
      ]
    },
    {
      "cell_type": "code",
      "metadata": {
        "id": "X39A7NEyRKdt",
        "colab": {
          "base_uri": "https://localhost:8080/"
        },
        "outputId": "e4e475b7-13e8-4ec5-830a-f9ff7e3e61d5"
      },
      "source": [
        "import numpy as np\n",
        "\n",
        "A = np.array([[6,7],[1,3],[11,4]])\n",
        "b = np.array([1370,540,1540])\n",
        "\n",
        "np.linalg.solve(A[0:2,:],b[0:2])"
      ],
      "execution_count": 4,
      "outputs": [
        {
          "output_type": "execute_result",
          "data": {
            "text/plain": [
              "array([ 30., 170.])"
            ]
          },
          "metadata": {},
          "execution_count": 4
        }
      ]
    },
    {
      "cell_type": "code",
      "metadata": {
        "id": "p3YIV4RTU-_R",
        "colab": {
          "base_uri": "https://localhost:8080/"
        },
        "outputId": "80caf4de-19cb-4155-847b-72f64a80c5f3"
      },
      "source": [
        "np.linalg.solve(A[1:3,:],b[1:3])"
      ],
      "execution_count": 5,
      "outputs": [
        {
          "output_type": "execute_result",
          "data": {
            "text/plain": [
              "array([ 84.82758621, 151.72413793])"
            ]
          },
          "metadata": {},
          "execution_count": 5
        }
      ]
    },
    {
      "cell_type": "code",
      "metadata": {
        "id": "VBS_jjUCVDKJ",
        "colab": {
          "base_uri": "https://localhost:8080/"
        },
        "outputId": "0c945638-4163-4f50-da09-9b027c6dda73"
      },
      "source": [
        "np.linalg.solve(A[[0,2],:],b[[0,2]])"
      ],
      "execution_count": 6,
      "outputs": [
        {
          "output_type": "execute_result",
          "data": {
            "text/plain": [
              "array([100., 110.])"
            ]
          },
          "metadata": {},
          "execution_count": 6
        }
      ]
    },
    {
      "cell_type": "markdown",
      "metadata": {
        "id": "0GbUkHE99XEH"
      },
      "source": [
        "Three lines will have three intersections $\\binom32=3$ We note that the intersection point of the first line and the third line is outside of the feasible region by the second line.  A graph of the feasible set is provided below. "
      ]
    },
    {
      "cell_type": "code",
      "metadata": {
        "colab": {
          "base_uri": "https://localhost:8080/",
          "height": 284
        },
        "id": "KhIcgYdm7VO_",
        "outputId": "7f4e5126-7e3a-4d73-cc44-be63ad964950"
      },
      "source": [
        "import matplotlib.pyplot as plt\n",
        "\n",
        "x1= np.arange(0,30,.1)\n",
        "x2= np.arange(30,100,.1)\n",
        "x3 = np.arange(100,140,.1)\n",
        "\n",
        "\n",
        "y1 = (540-1*x1)/3\n",
        "y2 = (1370-6*x2)/7\n",
        "y3 = (1540-11*x3)/4\n",
        "\n",
        "plt.plot(x1,y1, color = \"black\")\n",
        "plt.plot(x2,y2, color = \"black\")\n",
        "plt.plot(x3,y3, color = \"black\")\n",
        "plt.scatter(30,170, s = 100, color = \"black\")\n",
        "plt.scatter(100,110, s = 100, color = \"black\")\n",
        "plt.fill_between(x1,0,y1, color = \"yellow\")\n",
        "plt.fill_between(x2,0,y2, color = \"yellow\")\n",
        "plt.fill_between(x3,0,y3, color = \"yellow\")"
      ],
      "execution_count": 34,
      "outputs": [
        {
          "output_type": "execute_result",
          "data": {
            "text/plain": [
              "<matplotlib.collections.PolyCollection at 0x7fedc8443550>"
            ]
          },
          "metadata": {},
          "execution_count": 34
        },
        {
          "output_type": "display_data",
          "data": {
            "image/png": "[encoded data removed]",
            "text/plain": [
              "<Figure size 432x288 with 1 Axes>"
            ]
          },
          "metadata": {
            "needs_background": "light"
          }
        }
      ]
    },
    {
      "cell_type": "markdown",
      "metadata": {
        "id": "Y_lVo6Lt-CV6"
      },
      "source": [
        "So the intern now knows that any point inside this region is what is possible in any given week!  Now we ask, how to maximize the profit?  Let's get an equation in terms of our set up!\n",
        "\n",
        "$$\n",
        "P= 3x+2y\n",
        "$$\n",
        "\n",
        "We can pick some values for $P$ and see what happens.  "
      ]
    },
    {
      "cell_type": "code",
      "metadata": {
        "colab": {
          "base_uri": "https://localhost:8080/",
          "height": 268
        },
        "id": "612nWb9T_MxL",
        "outputId": "cfbcbe17-95e9-4e54-d6c8-a0391c3b799e"
      },
      "source": [
        "x1= np.arange(0,30,.1)\n",
        "x2= np.arange(30,100,.1)\n",
        "x3 = np.arange(100,140,.1)\n",
        "x4 = np.arange(0,70,.1)\n",
        "x5 = np.arange(0,100,.1)\n",
        "x6 = np.arange(0,130,.1)\n",
        "x7 = np.arange(0,160,.1)\n",
        "\n",
        "y1 = (540-1*x1)/3\n",
        "y2 = (1370-6*x2)/7\n",
        "y3 = (1540-11*x3)/4\n",
        "\n",
        "plt.plot(x1,y1, color = \"black\")\n",
        "plt.plot(x2,y2, color = \"black\")\n",
        "plt.plot(x3,y3, color = \"black\")\n",
        "plt.scatter(30,170, s = 100, color = \"black\")\n",
        "plt.scatter(100,110, s = 100, color = \"black\")\n",
        "plt.fill_between(x1,0,y1, color = \"yellow\")\n",
        "plt.fill_between(x2,0,y2, color = \"yellow\")\n",
        "plt.fill_between(x3,0,y3, color = \"yellow\")\n",
        "\n",
        "plt.plot(x4,(210-3*x4)/2,linestyle = \"dashed\", label = \"210\")\n",
        "plt.plot(x5,(300-3*x5)/2,linestyle = \"dashed\", label = \"300\")\n",
        "plt.plot(x6,(390-3*x6)/2,linestyle = \"dashed\", label = \"390\")\n",
        "plt.plot(x7,(480-3*x7)/2,linestyle = \"dashed\", label = \"480\")\n",
        "plt.legend()\n",
        "plt.show()\n"
      ],
      "execution_count": 45,
      "outputs": [
        {
          "output_type": "display_data",
          "data": {
            "image/png": "[encoded data removed]",
            "text/plain": [
              "<Figure size 432x288 with 1 Axes>"
            ]
          },
          "metadata": {
            "needs_background": "light"
          }
        }
      ]
    },
    {
      "cell_type": "markdown",
      "metadata": {
        "id": "RAF7lkyDAdIe"
      },
      "source": [
        "We can see that for each of the $P$ values I selected there are some options for the day.  We should also notice that the corner point looks like it will produce a line that just touches it!\n",
        "\n",
        "$$\n",
        "P = 3x + 2y = 3\\cdot100+2\\cdot110 = 520\n",
        "$$\n",
        "\n",
        "We'll graph that one and see!"
      ]
    },
    {
      "cell_type": "code",
      "metadata": {
        "colab": {
          "base_uri": "https://localhost:8080/",
          "height": 265
        },
        "id": "H5LYHizLCoyG",
        "outputId": "ac8a87fb-8670-44cd-80f6-0544e15958f9"
      },
      "source": [
        "x1= np.arange(0,30,.1)\n",
        "x2= np.arange(30,100,.1)\n",
        "x3 = np.arange(100,140,.1)\n",
        "x4 = np.arange(0,70,.1)\n",
        "x5 = np.arange(0,100,.1)\n",
        "x6 = np.arange(0,130,.1)\n",
        "x7 = np.arange(0,160,.1)\n",
        "\n",
        "y1 = (540-1*x1)/3\n",
        "y2 = (1370-6*x2)/7\n",
        "y3 = (1540-11*x3)/4\n",
        "\n",
        "plt.plot(x1,y1, color = \"black\")\n",
        "plt.plot(x2,y2, color = \"black\")\n",
        "plt.plot(x3,y3, color = \"black\")\n",
        "plt.scatter(30,170, s = 100, color = \"black\")\n",
        "plt.scatter(100,110, s = 100, color = \"black\")\n",
        "plt.fill_between(x1,0,y1, color = \"yellow\")\n",
        "plt.fill_between(x2,0,y2, color = \"yellow\")\n",
        "plt.fill_between(x3,0,y3, color = \"yellow\")\n",
        "\n",
        "\n",
        "plt.plot(x7,(520-3*x7)/2,linestyle = \"dashed\", label = \"520\")\n",
        "plt.legend()\n",
        "plt.show()"
      ],
      "execution_count": 50,
      "outputs": [
        {
          "output_type": "display_data",
          "data": {
            "image/png": "[encoded data removed]",
            "text/plain": [
              "<Figure size 432x288 with 1 Axes>"
            ]
          },
          "metadata": {
            "needs_background": "light"
          }
        }
      ]
    },
    {
      "cell_type": "markdown",
      "metadata": {
        "id": "9oQYb5KwC4Xg"
      },
      "source": [
        "Triuphantly the intern tells the boss that we can maximize profits by making 100 large pillows and 110 small pillows!"
      ]
    },
    {
      "cell_type": "markdown",
      "metadata": {
        "id": "DVKCnmI8UBTG"
      },
      "source": [
        "## Theory"
      ]
    },
    {
      "cell_type": "markdown",
      "metadata": {
        "id": "5GgWvxZMYjTU"
      },
      "source": [
        "The theory of linear programming can be stated in terms of the contraints and the objective function.  For a system of linear constraints and linear objective functions, the optimum values (minimum or maximum) will occur on the corner points of the feasible set described by the contraining function.\n",
        "\n",
        "If we consider that the feasible set of the constraining lines, it will create a polygon with sharp corners.  The linear objective function will cut through the polygon.  Any optimum point will be at one of the corners as the objective function just kisses the edge."
      ]
    },
    {
      "cell_type": "markdown",
      "metadata": {
        "id": "gZAnmh5LlmwX"
      },
      "source": [
        "## Examples"
      ]
    },
    {
      "cell_type": "markdown",
      "metadata": {
        "id": "VXEn-1oj8CG_"
      },
      "source": [
        "### Example 1"
      ]
    },
    {
      "cell_type": "markdown",
      "metadata": {
        "id": "hbqQ17BOlqGN"
      },
      "source": [
        "Repeat the original question using python's tools for solving *Linear Programming* or **LP** problems.  I'll use a tool from 'scipy.optimize'  The first issue is that it only minimizes!  So I'll need to convert my statement to minimize but this is easy, just multiply your objective function by negative one.\n",
        "\n"
      ]
    },
    {
      "cell_type": "code",
      "metadata": {
        "colab": {
          "base_uri": "https://localhost:8080/"
        },
        "id": "rB8lqZDVFGie",
        "outputId": "d3e8940f-8aa7-43ef-9708-84a65d572e93"
      },
      "source": [
        "from scipy.optimize import linprog\n",
        "\n",
        "linprog([-3,-2],A,b)"
      ],
      "execution_count": 54,
      "outputs": [
        {
          "output_type": "stream",
          "name": "stderr",
          "text": [
            "/usr/local/lib/python3.7/dist-packages/numpy/core/fromnumeric.py:87: VisibleDeprecationWarning: Creating an ndarray from ragged nested sequences (which is a list-or-tuple of lists-or-tuples-or ndarrays with different lengths or shapes) is deprecated. If you meant to do this, you must specify 'dtype=object' when creating the ndarray\n",
            "  return ufunc.reduce(obj, axis, dtype, out, **passkwargs)\n"
          ]
        },
        {
          "output_type": "execute_result",
          "data": {
            "text/plain": [
              "     con: array([], dtype=float64)\n",
              "     fun: -519.999999895085\n",
              " message: 'Optimization terminated successfully.'\n",
              "     nit: 5\n",
              "   slack: array([3.18975481e-07, 1.10000000e+02, 2.63415814e-07])\n",
              "  status: 0\n",
              " success: True\n",
              "       x: array([ 99.99999999, 109.99999996])"
            ]
          },
          "metadata": {},
          "execution_count": 54
        }
      ]
    },
    {
      "cell_type": "markdown",
      "metadata": {
        "id": "9ap7yquBGnhN"
      },
      "source": [
        "We can see that there is some ambiguity with the results being what we expected **if** we round.  We consider that as part of the quickness and allow for that, afterall we could not create less than a full pillow!"
      ]
    },
    {
      "cell_type": "markdown",
      "metadata": {
        "id": "xwx5JA688Gqu"
      },
      "source": [
        "### Example 2"
      ]
    },
    {
      "cell_type": "markdown",
      "metadata": {
        "id": "UCeUiE8j8Ngm"
      },
      "source": [
        ""
      ]
    },
    {
      "cell_type": "markdown",
      "metadata": {
        "id": "fb2uZl1q_LR_"
      },
      "source": [
        "## References\n",
        "\n",
        "*How to Solve It* **G. Polya** Second Edition Princeton University Press 1957\n",
        "\n",
        "*Thinking Mathematically* **J. Mason** Addison-Wesley Publishing Company 1985\n",
        "\n",
        "*Grit: The Power of Passion and Perseverance* **A. Duckworth** ‎ Scribner Book Company 2016\n",
        "\n"
      ]
    },
    {
      "cell_type": "markdown",
      "metadata": {
        "id": "DGC5WaH4Y98C"
      },
      "source": [
        "## Problems"
      ]
    },
    {
      "cell_type": "markdown",
      "metadata": {
        "id": "aFM8E4VSZA_p"
      },
      "source": [
        ""
      ]
    },
    {
      "cell_type": "code",
      "metadata": {
        "id": "mbMCC1ZMZAHk"
      },
      "source": [
        ""
      ],
      "execution_count": null,
      "outputs": []
    },
    {
      "cell_type": "markdown",
      "metadata": {
        "id": "pz5xCYtbZCGZ"
      },
      "source": [
        "## Project Idea"
      ]
    },
    {
      "cell_type": "markdown",
      "metadata": {
        "id": "LrBCw5_-ZJFK"
      },
      "source": [
        ""
      ]
    }
  ]
}